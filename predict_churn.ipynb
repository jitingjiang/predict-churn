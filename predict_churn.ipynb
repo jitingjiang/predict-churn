{
 "cells": [
  {
   "cell_type": "markdown",
   "id": "9784ee77",
   "metadata": {},
   "source": [
    "# Customer Churn Prediction (Classification using Deep Learning)"
   ]
  },
  {
   "cell_type": "code",
   "execution_count": 1,
   "id": "dc110c34",
   "metadata": {},
   "outputs": [],
   "source": [
    "__author__ = \"Jiting Jiang\"\n",
    "__email__ = \"jiting.jiang@outlook.com\"\n",
    "__website__ = \"https://jitingjiang.github.io/minimal-portfolio/\""
   ]
  },
  {
   "cell_type": "markdown",
   "id": "e057d345",
   "metadata": {},
   "source": [
    "## Goals"
   ]
  },
  {
   "cell_type": "markdown",
   "id": "2dcdd44a",
   "metadata": {},
   "source": [
    "The main objective of this project is to showcase the practical application of deep learning (neural networks) using Tensorflow to predict churn in a real-world business scenario. The key aspects covered in this project include design, implementation, hyperparameter fine-tuning, model evaluation and selection.\n",
    "\n",
    "Specifically, I completed the following tasks:\n",
    "* Performed exploratory analysis and extracted insights from the dataset\n",
    "* Built neural network models to predict which customers are going to churn\n",
    "* Evaluated the performance of three deep learning models with varying complexity levels, including regularization techniques. \n",
    "* Tuned the regularization parameter for one of the models\n",
    "* Selected the most suitable model for making churn prediction "
   ]
  },
  {
   "cell_type": "markdown",
   "id": "76f48684",
   "metadata": {},
   "source": [
    "## Tools"
   ]
  },
  {
   "cell_type": "code",
   "execution_count": 2,
   "id": "55fd35b6",
   "metadata": {},
   "outputs": [],
   "source": [
    "import pandas as pd\n",
    "import numpy as np\n",
    "import matplotlib.pyplot as plt\n",
    "import seaborn as sns\n",
    "%matplotlib inline"
   ]
  },
  {
   "cell_type": "code",
   "execution_count": 3,
   "id": "8e5c121c",
   "metadata": {},
   "outputs": [],
   "source": [
    "from sklearn.preprocessing import StandardScaler\n",
    "from sklearn.model_selection import train_test_split\n",
    "from sklearn.metrics import f1_score"
   ]
  },
  {
   "cell_type": "code",
   "execution_count": 4,
   "id": "bb5872a4",
   "metadata": {},
   "outputs": [
    {
     "name": "stderr",
     "output_type": "stream",
     "text": [
      "2023-07-26 22:52:57.589331: I tensorflow/core/platform/cpu_feature_guard.cc:182] This TensorFlow binary is optimized to use available CPU instructions in performance-critical operations.\n",
      "To enable the following instructions: AVX2 FMA, in other operations, rebuild TensorFlow with the appropriate compiler flags.\n"
     ]
    }
   ],
   "source": [
    "# Tensorflow\n",
    "import tensorflow as tf\n",
    "from tensorflow.keras.models import Sequential\n",
    "from tensorflow.keras.layers import Dense\n",
    "from tensorflow.keras.activations import relu, sigmoid, linear\n",
    "from tensorflow.keras.losses import BinaryCrossentropy\n",
    "from tensorflow.keras.optimizers import Adam"
   ]
  },
  {
   "cell_type": "markdown",
   "id": "7b8d1f2c",
   "metadata": {},
   "source": [
    "## 1 - Import Data and Overview"
   ]
  },
  {
   "cell_type": "code",
   "execution_count": 5,
   "id": "32208d88",
   "metadata": {},
   "outputs": [
    {
     "data": {
      "text/html": [
       "<div>\n",
       "<style scoped>\n",
       "    .dataframe tbody tr th:only-of-type {\n",
       "        vertical-align: middle;\n",
       "    }\n",
       "\n",
       "    .dataframe tbody tr th {\n",
       "        vertical-align: top;\n",
       "    }\n",
       "\n",
       "    .dataframe thead th {\n",
       "        text-align: right;\n",
       "    }\n",
       "</style>\n",
       "<table border=\"1\" class=\"dataframe\">\n",
       "  <thead>\n",
       "    <tr style=\"text-align: right;\">\n",
       "      <th></th>\n",
       "      <th>state</th>\n",
       "      <th>account length</th>\n",
       "      <th>area code</th>\n",
       "      <th>phone number</th>\n",
       "      <th>international plan</th>\n",
       "      <th>voice mail plan</th>\n",
       "      <th>number vmail messages</th>\n",
       "      <th>total day minutes</th>\n",
       "      <th>total day calls</th>\n",
       "      <th>total day charge</th>\n",
       "      <th>...</th>\n",
       "      <th>total eve calls</th>\n",
       "      <th>total eve charge</th>\n",
       "      <th>total night minutes</th>\n",
       "      <th>total night calls</th>\n",
       "      <th>total night charge</th>\n",
       "      <th>total intl minutes</th>\n",
       "      <th>total intl calls</th>\n",
       "      <th>total intl charge</th>\n",
       "      <th>customer service calls</th>\n",
       "      <th>churn</th>\n",
       "    </tr>\n",
       "  </thead>\n",
       "  <tbody>\n",
       "    <tr>\n",
       "      <th>0</th>\n",
       "      <td>KS</td>\n",
       "      <td>128</td>\n",
       "      <td>415</td>\n",
       "      <td>382-4657</td>\n",
       "      <td>no</td>\n",
       "      <td>yes</td>\n",
       "      <td>25</td>\n",
       "      <td>265.1</td>\n",
       "      <td>110</td>\n",
       "      <td>45.07</td>\n",
       "      <td>...</td>\n",
       "      <td>99</td>\n",
       "      <td>16.78</td>\n",
       "      <td>244.7</td>\n",
       "      <td>91</td>\n",
       "      <td>11.01</td>\n",
       "      <td>10.0</td>\n",
       "      <td>3</td>\n",
       "      <td>2.70</td>\n",
       "      <td>1</td>\n",
       "      <td>False</td>\n",
       "    </tr>\n",
       "    <tr>\n",
       "      <th>1</th>\n",
       "      <td>OH</td>\n",
       "      <td>107</td>\n",
       "      <td>415</td>\n",
       "      <td>371-7191</td>\n",
       "      <td>no</td>\n",
       "      <td>yes</td>\n",
       "      <td>26</td>\n",
       "      <td>161.6</td>\n",
       "      <td>123</td>\n",
       "      <td>27.47</td>\n",
       "      <td>...</td>\n",
       "      <td>103</td>\n",
       "      <td>16.62</td>\n",
       "      <td>254.4</td>\n",
       "      <td>103</td>\n",
       "      <td>11.45</td>\n",
       "      <td>13.7</td>\n",
       "      <td>3</td>\n",
       "      <td>3.70</td>\n",
       "      <td>1</td>\n",
       "      <td>False</td>\n",
       "    </tr>\n",
       "    <tr>\n",
       "      <th>2</th>\n",
       "      <td>NJ</td>\n",
       "      <td>137</td>\n",
       "      <td>415</td>\n",
       "      <td>358-1921</td>\n",
       "      <td>no</td>\n",
       "      <td>no</td>\n",
       "      <td>0</td>\n",
       "      <td>243.4</td>\n",
       "      <td>114</td>\n",
       "      <td>41.38</td>\n",
       "      <td>...</td>\n",
       "      <td>110</td>\n",
       "      <td>10.30</td>\n",
       "      <td>162.6</td>\n",
       "      <td>104</td>\n",
       "      <td>7.32</td>\n",
       "      <td>12.2</td>\n",
       "      <td>5</td>\n",
       "      <td>3.29</td>\n",
       "      <td>0</td>\n",
       "      <td>False</td>\n",
       "    </tr>\n",
       "    <tr>\n",
       "      <th>3</th>\n",
       "      <td>OH</td>\n",
       "      <td>84</td>\n",
       "      <td>408</td>\n",
       "      <td>375-9999</td>\n",
       "      <td>yes</td>\n",
       "      <td>no</td>\n",
       "      <td>0</td>\n",
       "      <td>299.4</td>\n",
       "      <td>71</td>\n",
       "      <td>50.90</td>\n",
       "      <td>...</td>\n",
       "      <td>88</td>\n",
       "      <td>5.26</td>\n",
       "      <td>196.9</td>\n",
       "      <td>89</td>\n",
       "      <td>8.86</td>\n",
       "      <td>6.6</td>\n",
       "      <td>7</td>\n",
       "      <td>1.78</td>\n",
       "      <td>2</td>\n",
       "      <td>False</td>\n",
       "    </tr>\n",
       "    <tr>\n",
       "      <th>4</th>\n",
       "      <td>OK</td>\n",
       "      <td>75</td>\n",
       "      <td>415</td>\n",
       "      <td>330-6626</td>\n",
       "      <td>yes</td>\n",
       "      <td>no</td>\n",
       "      <td>0</td>\n",
       "      <td>166.7</td>\n",
       "      <td>113</td>\n",
       "      <td>28.34</td>\n",
       "      <td>...</td>\n",
       "      <td>122</td>\n",
       "      <td>12.61</td>\n",
       "      <td>186.9</td>\n",
       "      <td>121</td>\n",
       "      <td>8.41</td>\n",
       "      <td>10.1</td>\n",
       "      <td>3</td>\n",
       "      <td>2.73</td>\n",
       "      <td>3</td>\n",
       "      <td>False</td>\n",
       "    </tr>\n",
       "  </tbody>\n",
       "</table>\n",
       "<p>5 rows × 21 columns</p>\n",
       "</div>"
      ],
      "text/plain": [
       "  state  account length  area code phone number international plan  \\\n",
       "0    KS             128        415     382-4657                 no   \n",
       "1    OH             107        415     371-7191                 no   \n",
       "2    NJ             137        415     358-1921                 no   \n",
       "3    OH              84        408     375-9999                yes   \n",
       "4    OK              75        415     330-6626                yes   \n",
       "\n",
       "  voice mail plan  number vmail messages  total day minutes  total day calls  \\\n",
       "0             yes                     25              265.1              110   \n",
       "1             yes                     26              161.6              123   \n",
       "2              no                      0              243.4              114   \n",
       "3              no                      0              299.4               71   \n",
       "4              no                      0              166.7              113   \n",
       "\n",
       "   total day charge  ...  total eve calls  total eve charge  \\\n",
       "0             45.07  ...               99             16.78   \n",
       "1             27.47  ...              103             16.62   \n",
       "2             41.38  ...              110             10.30   \n",
       "3             50.90  ...               88              5.26   \n",
       "4             28.34  ...              122             12.61   \n",
       "\n",
       "   total night minutes  total night calls  total night charge  \\\n",
       "0                244.7                 91               11.01   \n",
       "1                254.4                103               11.45   \n",
       "2                162.6                104                7.32   \n",
       "3                196.9                 89                8.86   \n",
       "4                186.9                121                8.41   \n",
       "\n",
       "   total intl minutes  total intl calls  total intl charge  \\\n",
       "0                10.0                 3               2.70   \n",
       "1                13.7                 3               3.70   \n",
       "2                12.2                 5               3.29   \n",
       "3                 6.6                 7               1.78   \n",
       "4                10.1                 3               2.73   \n",
       "\n",
       "   customer service calls  churn  \n",
       "0                       1  False  \n",
       "1                       1  False  \n",
       "2                       0  False  \n",
       "3                       2  False  \n",
       "4                       3  False  \n",
       "\n",
       "[5 rows x 21 columns]"
      ]
     },
     "execution_count": 5,
     "metadata": {},
     "output_type": "execute_result"
    }
   ],
   "source": [
    "# Import in dataset from a csv file\n",
    "churn_raw = pd.read_csv('customer_churn.csv')\n",
    "\n",
    "churn_raw.head()"
   ]
  },
  {
   "cell_type": "code",
   "execution_count": 6,
   "id": "e03dd9f3",
   "metadata": {},
   "outputs": [
    {
     "name": "stdout",
     "output_type": "stream",
     "text": [
      "<class 'pandas.core.frame.DataFrame'>\n",
      "RangeIndex: 3333 entries, 0 to 3332\n",
      "Data columns (total 21 columns):\n",
      " #   Column                  Non-Null Count  Dtype  \n",
      "---  ------                  --------------  -----  \n",
      " 0   state                   3333 non-null   object \n",
      " 1   account length          3333 non-null   int64  \n",
      " 2   area code               3333 non-null   int64  \n",
      " 3   phone number            3333 non-null   object \n",
      " 4   international plan      3333 non-null   object \n",
      " 5   voice mail plan         3333 non-null   object \n",
      " 6   number vmail messages   3333 non-null   int64  \n",
      " 7   total day minutes       3333 non-null   float64\n",
      " 8   total day calls         3333 non-null   int64  \n",
      " 9   total day charge        3333 non-null   float64\n",
      " 10  total eve minutes       3333 non-null   float64\n",
      " 11  total eve calls         3333 non-null   int64  \n",
      " 12  total eve charge        3333 non-null   float64\n",
      " 13  total night minutes     3333 non-null   float64\n",
      " 14  total night calls       3333 non-null   int64  \n",
      " 15  total night charge      3333 non-null   float64\n",
      " 16  total intl minutes      3333 non-null   float64\n",
      " 17  total intl calls        3333 non-null   int64  \n",
      " 18  total intl charge       3333 non-null   float64\n",
      " 19  customer service calls  3333 non-null   int64  \n",
      " 20  churn                   3333 non-null   bool   \n",
      "dtypes: bool(1), float64(8), int64(8), object(4)\n",
      "memory usage: 524.2+ KB\n"
     ]
    }
   ],
   "source": [
    "churn_raw.info()"
   ]
  },
  {
   "cell_type": "markdown",
   "id": "69af1e63",
   "metadata": {},
   "source": [
    "## 2 - Data Cleaning and Data Engineering"
   ]
  },
  {
   "cell_type": "markdown",
   "id": "21d2ac4b",
   "metadata": {},
   "source": [
    "### 2.1 Check for missingness"
   ]
  },
  {
   "cell_type": "code",
   "execution_count": 7,
   "id": "4d8bb64f",
   "metadata": {},
   "outputs": [
    {
     "data": {
      "text/plain": [
       "state                     0\n",
       "total intl charge         0\n",
       "total intl calls          0\n",
       "total intl minutes        0\n",
       "total night charge        0\n",
       "total night calls         0\n",
       "total night minutes       0\n",
       "total eve charge          0\n",
       "total eve calls           0\n",
       "customer service calls    0\n",
       "total eve minutes         0\n",
       "total day calls           0\n",
       "total day minutes         0\n",
       "number vmail messages     0\n",
       "voice mail plan           0\n",
       "international plan        0\n",
       "phone number              0\n",
       "area code                 0\n",
       "account length            0\n",
       "total day charge          0\n",
       "churn                     0\n",
       "dtype: int64"
      ]
     },
     "execution_count": 7,
     "metadata": {},
     "output_type": "execute_result"
    }
   ],
   "source": [
    "# Count the number of missing values in each column and sort\n",
    "missing_values = churn_raw.isnull().sum().sort_values()\n",
    "missing_values"
   ]
  },
  {
   "cell_type": "markdown",
   "id": "9b7555fa",
   "metadata": {},
   "source": [
    "### 2.2 Tabulate the target feature"
   ]
  },
  {
   "cell_type": "code",
   "execution_count": 8,
   "id": "e2000d86",
   "metadata": {},
   "outputs": [
    {
     "data": {
      "text/plain": [
       "False    0.855086\n",
       "True     0.144914\n",
       "Name: churn, dtype: float64"
      ]
     },
     "execution_count": 8,
     "metadata": {},
     "output_type": "execute_result"
    }
   ],
   "source": [
    "churn_raw['churn'].value_counts(normalize=True)"
   ]
  },
  {
   "cell_type": "code",
   "execution_count": 9,
   "id": "2075ed68",
   "metadata": {},
   "outputs": [],
   "source": [
    "churn_raw['churn'] = churn_raw['churn'].astype(int)"
   ]
  },
  {
   "cell_type": "markdown",
   "id": "cfec59a6",
   "metadata": {},
   "source": [
    "### 2.3 Transform other categorical features"
   ]
  },
  {
   "cell_type": "code",
   "execution_count": 10,
   "id": "af90871d",
   "metadata": {},
   "outputs": [
    {
     "name": "stdout",
     "output_type": "stream",
     "text": [
      "The list of categorical features:\n",
      "Index(['state', 'phone number', 'international plan', 'voice mail plan'], dtype='object')\n"
     ]
    }
   ],
   "source": [
    "# List all the categorical features\n",
    "cat_columns = churn_raw.select_dtypes(include=['object']).columns\n",
    "print(f\"The list of categorical features:\\n{cat_columns}\")"
   ]
  },
  {
   "cell_type": "code",
   "execution_count": 11,
   "id": "35769a6b",
   "metadata": {},
   "outputs": [
    {
     "name": "stdout",
     "output_type": "stream",
     "text": [
      "The number of unique state: 51\n",
      "The number of unique area code: 3\n",
      "The share with international plan:\n",
      "no     0.90309\n",
      "yes    0.09691\n",
      "Name: international plan, dtype: float64\n",
      "The share with voice mail plan:\n",
      "no     0.723372\n",
      "yes    0.276628\n",
      "Name: voice mail plan, dtype: float64\n"
     ]
    }
   ],
   "source": [
    "# Check the distribution of these categorical features\n",
    "print(f\"The number of unique state: {churn_raw['state'].nunique()}\")\n",
    "print(f\"The number of unique area code: {churn_raw['area code'].nunique()}\")\n",
    "print(f\"The share with international plan:\\n{churn_raw['international plan'].value_counts(normalize=True)}\")\n",
    "print(f\"The share with voice mail plan:\\n{churn_raw['voice mail plan'].value_counts(normalize=True)}\")"
   ]
  },
  {
   "cell_type": "code",
   "execution_count": 12,
   "id": "a47a06f9",
   "metadata": {},
   "outputs": [],
   "source": [
    "# One-hot encoding for 'area code', 'international plan', and 'voice mail plan'\n",
    "area_dummies = pd.get_dummies(churn_raw['area code'], drop_first=True, prefix='area')\n",
    "inter_dummies = pd.get_dummies(churn_raw['international plan'], drop_first=True, prefix='inter')\n",
    "voice_dummies = pd.get_dummies(churn_raw['voice mail plan'], drop_first=True, prefix='voice')"
   ]
  },
  {
   "cell_type": "markdown",
   "id": "0bce9e00",
   "metadata": {},
   "source": [
    "### 2.4 Combine certain (closely related) features"
   ]
  },
  {
   "cell_type": "code",
   "execution_count": 13,
   "id": "da9ec9b4",
   "metadata": {},
   "outputs": [],
   "source": [
    "churn_1 = churn_raw.copy()\n",
    "\n",
    "churn_1['total_minutes'] = churn_1['total day minutes'] + churn_1['total eve minutes'] + churn_1['total night minutes'] + churn_1['total intl minutes']\n",
    "churn_1['total_calls'] = churn_1['total day calls'] + churn_1['total eve calls'] + churn_1['total night calls'] + churn_1['total intl calls'] \n",
    "churn_1['total_charge'] = churn_1['total day charge'] + churn_1['total eve charge'] + churn_1['total night charge'] + churn_1['total intl charge'] "
   ]
  },
  {
   "cell_type": "markdown",
   "id": "f06a002e",
   "metadata": {},
   "source": [
    "### 2.5 Obtain a new dataframe"
   ]
  },
  {
   "cell_type": "code",
   "execution_count": 14,
   "id": "15cbd4ee",
   "metadata": {},
   "outputs": [
    {
     "data": {
      "text/html": [
       "<div>\n",
       "<style scoped>\n",
       "    .dataframe tbody tr th:only-of-type {\n",
       "        vertical-align: middle;\n",
       "    }\n",
       "\n",
       "    .dataframe tbody tr th {\n",
       "        vertical-align: top;\n",
       "    }\n",
       "\n",
       "    .dataframe thead th {\n",
       "        text-align: right;\n",
       "    }\n",
       "</style>\n",
       "<table border=\"1\" class=\"dataframe\">\n",
       "  <thead>\n",
       "    <tr style=\"text-align: right;\">\n",
       "      <th></th>\n",
       "      <th>state</th>\n",
       "      <th>account length</th>\n",
       "      <th>area code</th>\n",
       "      <th>phone number</th>\n",
       "      <th>international plan</th>\n",
       "      <th>voice mail plan</th>\n",
       "      <th>number vmail messages</th>\n",
       "      <th>total day minutes</th>\n",
       "      <th>total day calls</th>\n",
       "      <th>total day charge</th>\n",
       "      <th>...</th>\n",
       "      <th>total intl charge</th>\n",
       "      <th>customer service calls</th>\n",
       "      <th>churn</th>\n",
       "      <th>total_minutes</th>\n",
       "      <th>total_calls</th>\n",
       "      <th>total_charge</th>\n",
       "      <th>area_415</th>\n",
       "      <th>area_510</th>\n",
       "      <th>inter_yes</th>\n",
       "      <th>voice_yes</th>\n",
       "    </tr>\n",
       "  </thead>\n",
       "  <tbody>\n",
       "    <tr>\n",
       "      <th>0</th>\n",
       "      <td>KS</td>\n",
       "      <td>128</td>\n",
       "      <td>415</td>\n",
       "      <td>382-4657</td>\n",
       "      <td>no</td>\n",
       "      <td>yes</td>\n",
       "      <td>25</td>\n",
       "      <td>265.1</td>\n",
       "      <td>110</td>\n",
       "      <td>45.07</td>\n",
       "      <td>...</td>\n",
       "      <td>2.70</td>\n",
       "      <td>1</td>\n",
       "      <td>0</td>\n",
       "      <td>717.2</td>\n",
       "      <td>303</td>\n",
       "      <td>75.56</td>\n",
       "      <td>1</td>\n",
       "      <td>0</td>\n",
       "      <td>0</td>\n",
       "      <td>1</td>\n",
       "    </tr>\n",
       "    <tr>\n",
       "      <th>1</th>\n",
       "      <td>OH</td>\n",
       "      <td>107</td>\n",
       "      <td>415</td>\n",
       "      <td>371-7191</td>\n",
       "      <td>no</td>\n",
       "      <td>yes</td>\n",
       "      <td>26</td>\n",
       "      <td>161.6</td>\n",
       "      <td>123</td>\n",
       "      <td>27.47</td>\n",
       "      <td>...</td>\n",
       "      <td>3.70</td>\n",
       "      <td>1</td>\n",
       "      <td>0</td>\n",
       "      <td>625.2</td>\n",
       "      <td>332</td>\n",
       "      <td>59.24</td>\n",
       "      <td>1</td>\n",
       "      <td>0</td>\n",
       "      <td>0</td>\n",
       "      <td>1</td>\n",
       "    </tr>\n",
       "    <tr>\n",
       "      <th>2</th>\n",
       "      <td>NJ</td>\n",
       "      <td>137</td>\n",
       "      <td>415</td>\n",
       "      <td>358-1921</td>\n",
       "      <td>no</td>\n",
       "      <td>no</td>\n",
       "      <td>0</td>\n",
       "      <td>243.4</td>\n",
       "      <td>114</td>\n",
       "      <td>41.38</td>\n",
       "      <td>...</td>\n",
       "      <td>3.29</td>\n",
       "      <td>0</td>\n",
       "      <td>0</td>\n",
       "      <td>539.4</td>\n",
       "      <td>333</td>\n",
       "      <td>62.29</td>\n",
       "      <td>1</td>\n",
       "      <td>0</td>\n",
       "      <td>0</td>\n",
       "      <td>0</td>\n",
       "    </tr>\n",
       "    <tr>\n",
       "      <th>3</th>\n",
       "      <td>OH</td>\n",
       "      <td>84</td>\n",
       "      <td>408</td>\n",
       "      <td>375-9999</td>\n",
       "      <td>yes</td>\n",
       "      <td>no</td>\n",
       "      <td>0</td>\n",
       "      <td>299.4</td>\n",
       "      <td>71</td>\n",
       "      <td>50.90</td>\n",
       "      <td>...</td>\n",
       "      <td>1.78</td>\n",
       "      <td>2</td>\n",
       "      <td>0</td>\n",
       "      <td>564.8</td>\n",
       "      <td>255</td>\n",
       "      <td>66.80</td>\n",
       "      <td>0</td>\n",
       "      <td>0</td>\n",
       "      <td>1</td>\n",
       "      <td>0</td>\n",
       "    </tr>\n",
       "    <tr>\n",
       "      <th>4</th>\n",
       "      <td>OK</td>\n",
       "      <td>75</td>\n",
       "      <td>415</td>\n",
       "      <td>330-6626</td>\n",
       "      <td>yes</td>\n",
       "      <td>no</td>\n",
       "      <td>0</td>\n",
       "      <td>166.7</td>\n",
       "      <td>113</td>\n",
       "      <td>28.34</td>\n",
       "      <td>...</td>\n",
       "      <td>2.73</td>\n",
       "      <td>3</td>\n",
       "      <td>0</td>\n",
       "      <td>512.0</td>\n",
       "      <td>359</td>\n",
       "      <td>52.09</td>\n",
       "      <td>1</td>\n",
       "      <td>0</td>\n",
       "      <td>1</td>\n",
       "      <td>0</td>\n",
       "    </tr>\n",
       "  </tbody>\n",
       "</table>\n",
       "<p>5 rows × 28 columns</p>\n",
       "</div>"
      ],
      "text/plain": [
       "  state  account length  area code phone number international plan  \\\n",
       "0    KS             128        415     382-4657                 no   \n",
       "1    OH             107        415     371-7191                 no   \n",
       "2    NJ             137        415     358-1921                 no   \n",
       "3    OH              84        408     375-9999                yes   \n",
       "4    OK              75        415     330-6626                yes   \n",
       "\n",
       "  voice mail plan  number vmail messages  total day minutes  total day calls  \\\n",
       "0             yes                     25              265.1              110   \n",
       "1             yes                     26              161.6              123   \n",
       "2              no                      0              243.4              114   \n",
       "3              no                      0              299.4               71   \n",
       "4              no                      0              166.7              113   \n",
       "\n",
       "   total day charge  ...  total intl charge  customer service calls  churn  \\\n",
       "0             45.07  ...               2.70                       1      0   \n",
       "1             27.47  ...               3.70                       1      0   \n",
       "2             41.38  ...               3.29                       0      0   \n",
       "3             50.90  ...               1.78                       2      0   \n",
       "4             28.34  ...               2.73                       3      0   \n",
       "\n",
       "   total_minutes  total_calls  total_charge  area_415  area_510  inter_yes  \\\n",
       "0          717.2          303         75.56         1         0          0   \n",
       "1          625.2          332         59.24         1         0          0   \n",
       "2          539.4          333         62.29         1         0          0   \n",
       "3          564.8          255         66.80         0         0          1   \n",
       "4          512.0          359         52.09         1         0          1   \n",
       "\n",
       "   voice_yes  \n",
       "0          1  \n",
       "1          1  \n",
       "2          0  \n",
       "3          0  \n",
       "4          0  \n",
       "\n",
       "[5 rows x 28 columns]"
      ]
     },
     "execution_count": 14,
     "metadata": {},
     "output_type": "execute_result"
    }
   ],
   "source": [
    "churn_1 = pd.concat([churn_1, area_dummies, inter_dummies, voice_dummies], axis=1)\n",
    "churn_1.head()"
   ]
  },
  {
   "cell_type": "markdown",
   "id": "e791dfb7",
   "metadata": {},
   "source": [
    "### 2.6 Describe all numerical features in the new dataframe"
   ]
  },
  {
   "cell_type": "code",
   "execution_count": 15,
   "id": "7d942155",
   "metadata": {},
   "outputs": [
    {
     "data": {
      "text/html": [
       "<div>\n",
       "<style scoped>\n",
       "    .dataframe tbody tr th:only-of-type {\n",
       "        vertical-align: middle;\n",
       "    }\n",
       "\n",
       "    .dataframe tbody tr th {\n",
       "        vertical-align: top;\n",
       "    }\n",
       "\n",
       "    .dataframe thead th {\n",
       "        text-align: right;\n",
       "    }\n",
       "</style>\n",
       "<table border=\"1\" class=\"dataframe\">\n",
       "  <thead>\n",
       "    <tr style=\"text-align: right;\">\n",
       "      <th></th>\n",
       "      <th>account length</th>\n",
       "      <th>area code</th>\n",
       "      <th>number vmail messages</th>\n",
       "      <th>total day minutes</th>\n",
       "      <th>total day calls</th>\n",
       "      <th>total day charge</th>\n",
       "      <th>total eve minutes</th>\n",
       "      <th>total eve calls</th>\n",
       "      <th>total eve charge</th>\n",
       "      <th>total night minutes</th>\n",
       "      <th>...</th>\n",
       "      <th>total intl charge</th>\n",
       "      <th>customer service calls</th>\n",
       "      <th>churn</th>\n",
       "      <th>total_minutes</th>\n",
       "      <th>total_calls</th>\n",
       "      <th>total_charge</th>\n",
       "      <th>area_415</th>\n",
       "      <th>area_510</th>\n",
       "      <th>inter_yes</th>\n",
       "      <th>voice_yes</th>\n",
       "    </tr>\n",
       "  </thead>\n",
       "  <tbody>\n",
       "    <tr>\n",
       "      <th>count</th>\n",
       "      <td>3333.000000</td>\n",
       "      <td>3333.000000</td>\n",
       "      <td>3333.000000</td>\n",
       "      <td>3333.000000</td>\n",
       "      <td>3333.000000</td>\n",
       "      <td>3333.000000</td>\n",
       "      <td>3333.000000</td>\n",
       "      <td>3333.000000</td>\n",
       "      <td>3333.000000</td>\n",
       "      <td>3333.000000</td>\n",
       "      <td>...</td>\n",
       "      <td>3333.000000</td>\n",
       "      <td>3333.000000</td>\n",
       "      <td>3333.000000</td>\n",
       "      <td>3333.000000</td>\n",
       "      <td>3333.000000</td>\n",
       "      <td>3333.000000</td>\n",
       "      <td>3333.000000</td>\n",
       "      <td>3333.000000</td>\n",
       "      <td>3333.000000</td>\n",
       "      <td>3333.000000</td>\n",
       "    </tr>\n",
       "    <tr>\n",
       "      <th>mean</th>\n",
       "      <td>101.064806</td>\n",
       "      <td>437.182418</td>\n",
       "      <td>8.099010</td>\n",
       "      <td>179.775098</td>\n",
       "      <td>100.435644</td>\n",
       "      <td>30.562307</td>\n",
       "      <td>200.980348</td>\n",
       "      <td>100.114311</td>\n",
       "      <td>17.083540</td>\n",
       "      <td>200.872037</td>\n",
       "      <td>...</td>\n",
       "      <td>2.764581</td>\n",
       "      <td>1.562856</td>\n",
       "      <td>0.144914</td>\n",
       "      <td>591.864776</td>\n",
       "      <td>305.137114</td>\n",
       "      <td>59.449754</td>\n",
       "      <td>0.496550</td>\n",
       "      <td>0.252025</td>\n",
       "      <td>0.096910</td>\n",
       "      <td>0.276628</td>\n",
       "    </tr>\n",
       "    <tr>\n",
       "      <th>std</th>\n",
       "      <td>39.822106</td>\n",
       "      <td>42.371290</td>\n",
       "      <td>13.688365</td>\n",
       "      <td>54.467389</td>\n",
       "      <td>20.069084</td>\n",
       "      <td>9.259435</td>\n",
       "      <td>50.713844</td>\n",
       "      <td>19.922625</td>\n",
       "      <td>4.310668</td>\n",
       "      <td>50.573847</td>\n",
       "      <td>...</td>\n",
       "      <td>0.753773</td>\n",
       "      <td>1.315491</td>\n",
       "      <td>0.352067</td>\n",
       "      <td>89.954251</td>\n",
       "      <td>34.448164</td>\n",
       "      <td>10.502261</td>\n",
       "      <td>0.500063</td>\n",
       "      <td>0.434241</td>\n",
       "      <td>0.295879</td>\n",
       "      <td>0.447398</td>\n",
       "    </tr>\n",
       "    <tr>\n",
       "      <th>min</th>\n",
       "      <td>1.000000</td>\n",
       "      <td>408.000000</td>\n",
       "      <td>0.000000</td>\n",
       "      <td>0.000000</td>\n",
       "      <td>0.000000</td>\n",
       "      <td>0.000000</td>\n",
       "      <td>0.000000</td>\n",
       "      <td>0.000000</td>\n",
       "      <td>0.000000</td>\n",
       "      <td>23.200000</td>\n",
       "      <td>...</td>\n",
       "      <td>0.000000</td>\n",
       "      <td>0.000000</td>\n",
       "      <td>0.000000</td>\n",
       "      <td>284.300000</td>\n",
       "      <td>191.000000</td>\n",
       "      <td>22.930000</td>\n",
       "      <td>0.000000</td>\n",
       "      <td>0.000000</td>\n",
       "      <td>0.000000</td>\n",
       "      <td>0.000000</td>\n",
       "    </tr>\n",
       "    <tr>\n",
       "      <th>25%</th>\n",
       "      <td>74.000000</td>\n",
       "      <td>408.000000</td>\n",
       "      <td>0.000000</td>\n",
       "      <td>143.700000</td>\n",
       "      <td>87.000000</td>\n",
       "      <td>24.430000</td>\n",
       "      <td>166.600000</td>\n",
       "      <td>87.000000</td>\n",
       "      <td>14.160000</td>\n",
       "      <td>167.000000</td>\n",
       "      <td>...</td>\n",
       "      <td>2.300000</td>\n",
       "      <td>1.000000</td>\n",
       "      <td>0.000000</td>\n",
       "      <td>531.500000</td>\n",
       "      <td>282.000000</td>\n",
       "      <td>52.380000</td>\n",
       "      <td>0.000000</td>\n",
       "      <td>0.000000</td>\n",
       "      <td>0.000000</td>\n",
       "      <td>0.000000</td>\n",
       "    </tr>\n",
       "    <tr>\n",
       "      <th>50%</th>\n",
       "      <td>101.000000</td>\n",
       "      <td>415.000000</td>\n",
       "      <td>0.000000</td>\n",
       "      <td>179.400000</td>\n",
       "      <td>101.000000</td>\n",
       "      <td>30.500000</td>\n",
       "      <td>201.400000</td>\n",
       "      <td>100.000000</td>\n",
       "      <td>17.120000</td>\n",
       "      <td>201.200000</td>\n",
       "      <td>...</td>\n",
       "      <td>2.780000</td>\n",
       "      <td>1.000000</td>\n",
       "      <td>0.000000</td>\n",
       "      <td>593.600000</td>\n",
       "      <td>305.000000</td>\n",
       "      <td>59.470000</td>\n",
       "      <td>0.000000</td>\n",
       "      <td>0.000000</td>\n",
       "      <td>0.000000</td>\n",
       "      <td>0.000000</td>\n",
       "    </tr>\n",
       "    <tr>\n",
       "      <th>75%</th>\n",
       "      <td>127.000000</td>\n",
       "      <td>510.000000</td>\n",
       "      <td>20.000000</td>\n",
       "      <td>216.400000</td>\n",
       "      <td>114.000000</td>\n",
       "      <td>36.790000</td>\n",
       "      <td>235.300000</td>\n",
       "      <td>114.000000</td>\n",
       "      <td>20.000000</td>\n",
       "      <td>235.300000</td>\n",
       "      <td>...</td>\n",
       "      <td>3.270000</td>\n",
       "      <td>2.000000</td>\n",
       "      <td>0.000000</td>\n",
       "      <td>652.400000</td>\n",
       "      <td>328.000000</td>\n",
       "      <td>66.480000</td>\n",
       "      <td>1.000000</td>\n",
       "      <td>1.000000</td>\n",
       "      <td>0.000000</td>\n",
       "      <td>1.000000</td>\n",
       "    </tr>\n",
       "    <tr>\n",
       "      <th>max</th>\n",
       "      <td>243.000000</td>\n",
       "      <td>510.000000</td>\n",
       "      <td>51.000000</td>\n",
       "      <td>350.800000</td>\n",
       "      <td>165.000000</td>\n",
       "      <td>59.640000</td>\n",
       "      <td>363.700000</td>\n",
       "      <td>170.000000</td>\n",
       "      <td>30.910000</td>\n",
       "      <td>395.000000</td>\n",
       "      <td>...</td>\n",
       "      <td>5.400000</td>\n",
       "      <td>9.000000</td>\n",
       "      <td>1.000000</td>\n",
       "      <td>885.000000</td>\n",
       "      <td>416.000000</td>\n",
       "      <td>96.150000</td>\n",
       "      <td>1.000000</td>\n",
       "      <td>1.000000</td>\n",
       "      <td>1.000000</td>\n",
       "      <td>1.000000</td>\n",
       "    </tr>\n",
       "  </tbody>\n",
       "</table>\n",
       "<p>8 rows × 24 columns</p>\n",
       "</div>"
      ],
      "text/plain": [
       "       account length    area code  number vmail messages  total day minutes  \\\n",
       "count     3333.000000  3333.000000            3333.000000        3333.000000   \n",
       "mean       101.064806   437.182418               8.099010         179.775098   \n",
       "std         39.822106    42.371290              13.688365          54.467389   \n",
       "min          1.000000   408.000000               0.000000           0.000000   \n",
       "25%         74.000000   408.000000               0.000000         143.700000   \n",
       "50%        101.000000   415.000000               0.000000         179.400000   \n",
       "75%        127.000000   510.000000              20.000000         216.400000   \n",
       "max        243.000000   510.000000              51.000000         350.800000   \n",
       "\n",
       "       total day calls  total day charge  total eve minutes  total eve calls  \\\n",
       "count      3333.000000       3333.000000        3333.000000      3333.000000   \n",
       "mean        100.435644         30.562307         200.980348       100.114311   \n",
       "std          20.069084          9.259435          50.713844        19.922625   \n",
       "min           0.000000          0.000000           0.000000         0.000000   \n",
       "25%          87.000000         24.430000         166.600000        87.000000   \n",
       "50%         101.000000         30.500000         201.400000       100.000000   \n",
       "75%         114.000000         36.790000         235.300000       114.000000   \n",
       "max         165.000000         59.640000         363.700000       170.000000   \n",
       "\n",
       "       total eve charge  total night minutes  ...  total intl charge  \\\n",
       "count       3333.000000          3333.000000  ...        3333.000000   \n",
       "mean          17.083540           200.872037  ...           2.764581   \n",
       "std            4.310668            50.573847  ...           0.753773   \n",
       "min            0.000000            23.200000  ...           0.000000   \n",
       "25%           14.160000           167.000000  ...           2.300000   \n",
       "50%           17.120000           201.200000  ...           2.780000   \n",
       "75%           20.000000           235.300000  ...           3.270000   \n",
       "max           30.910000           395.000000  ...           5.400000   \n",
       "\n",
       "       customer service calls        churn  total_minutes  total_calls  \\\n",
       "count             3333.000000  3333.000000    3333.000000  3333.000000   \n",
       "mean                 1.562856     0.144914     591.864776   305.137114   \n",
       "std                  1.315491     0.352067      89.954251    34.448164   \n",
       "min                  0.000000     0.000000     284.300000   191.000000   \n",
       "25%                  1.000000     0.000000     531.500000   282.000000   \n",
       "50%                  1.000000     0.000000     593.600000   305.000000   \n",
       "75%                  2.000000     0.000000     652.400000   328.000000   \n",
       "max                  9.000000     1.000000     885.000000   416.000000   \n",
       "\n",
       "       total_charge     area_415     area_510    inter_yes    voice_yes  \n",
       "count   3333.000000  3333.000000  3333.000000  3333.000000  3333.000000  \n",
       "mean      59.449754     0.496550     0.252025     0.096910     0.276628  \n",
       "std       10.502261     0.500063     0.434241     0.295879     0.447398  \n",
       "min       22.930000     0.000000     0.000000     0.000000     0.000000  \n",
       "25%       52.380000     0.000000     0.000000     0.000000     0.000000  \n",
       "50%       59.470000     0.000000     0.000000     0.000000     0.000000  \n",
       "75%       66.480000     1.000000     1.000000     0.000000     1.000000  \n",
       "max       96.150000     1.000000     1.000000     1.000000     1.000000  \n",
       "\n",
       "[8 rows x 24 columns]"
      ]
     },
     "execution_count": 15,
     "metadata": {},
     "output_type": "execute_result"
    }
   ],
   "source": [
    "churn_1.describe()"
   ]
  },
  {
   "cell_type": "code",
   "execution_count": 16,
   "id": "dc91bede",
   "metadata": {},
   "outputs": [],
   "source": [
    "# Drop certain features\n",
    "churn_1 = churn_1.drop(['total day minutes', 'total day calls', 'total day charge',\n",
    "       'total eve minutes', 'total eve calls', 'total eve charge',\n",
    "       'total night minutes', 'total night calls', 'total night charge',\n",
    "       'total intl minutes', 'total intl calls', 'total intl charge', \n",
    "        'state', 'area code', 'phone number', 'international plan', 'voice mail plan'], axis=1)"
   ]
  },
  {
   "cell_type": "code",
   "execution_count": 17,
   "id": "5c319584",
   "metadata": {},
   "outputs": [
    {
     "name": "stdout",
     "output_type": "stream",
     "text": [
      "<class 'pandas.core.frame.DataFrame'>\n",
      "RangeIndex: 3333 entries, 0 to 3332\n",
      "Data columns (total 11 columns):\n",
      " #   Column                  Non-Null Count  Dtype  \n",
      "---  ------                  --------------  -----  \n",
      " 0   account length          3333 non-null   int64  \n",
      " 1   number vmail messages   3333 non-null   int64  \n",
      " 2   customer service calls  3333 non-null   int64  \n",
      " 3   churn                   3333 non-null   int64  \n",
      " 4   total_minutes           3333 non-null   float64\n",
      " 5   total_calls             3333 non-null   int64  \n",
      " 6   total_charge            3333 non-null   float64\n",
      " 7   area_415                3333 non-null   uint8  \n",
      " 8   area_510                3333 non-null   uint8  \n",
      " 9   inter_yes               3333 non-null   uint8  \n",
      " 10  voice_yes               3333 non-null   uint8  \n",
      "dtypes: float64(2), int64(5), uint8(4)\n",
      "memory usage: 195.4 KB\n"
     ]
    }
   ],
   "source": [
    "churn_1.info()"
   ]
  },
  {
   "cell_type": "markdown",
   "id": "d0cfe40f",
   "metadata": {},
   "source": [
    "### 2.7 Visualize univariate distributions and bivariate relationships"
   ]
  },
  {
   "cell_type": "code",
   "execution_count": 18,
   "id": "2923515d",
   "metadata": {},
   "outputs": [
    {
     "data": {
      "image/png": "[encoded data removed]",
      "text/plain": [
       "<Figure size 1500x1200 with 12 Axes>"
      ]
     },
     "metadata": {},
     "output_type": "display_data"
    }
   ],
   "source": [
    "# Check univariate distribution of features\n",
    "churn_1.hist(figsize=(15,12),bins = 15)\n",
    "plt.show()"
   ]
  },
  {
   "cell_type": "code",
   "execution_count": 19,
   "id": "2c8ad5a7",
   "metadata": {},
   "outputs": [
    {
     "data": {
      "text/plain": [
       "<AxesSubplot:>"
      ]
     },
     "execution_count": 19,
     "metadata": {},
     "output_type": "execute_result"
    },
    {
     "data": {
      "image/png": "[encoded data removed]",
      "text/plain": [
       "<Figure size 640x480 with 2 Axes>"
      ]
     },
     "metadata": {},
     "output_type": "display_data"
    }
   ],
   "source": [
    "# Check bivariate relationship between features\n",
    "corrmat = churn_1.corr(method='pearson')\n",
    "corrmat.style.background_gradient()\n",
    "\n",
    "mask = np.triu(np.ones_like(corrmat, dtype=bool))\n",
    "sns.heatmap(corrmat,\n",
    "            annot=True, \n",
    "            annot_kws={'fontsize': 6},\n",
    "            cmap='coolwarm',\n",
    "            mask=mask,\n",
    "            square=True, linewidths=.5, cbar_kws={\"shrink\": .5})"
   ]
  },
  {
   "cell_type": "code",
   "execution_count": 20,
   "id": "d7e415c5",
   "metadata": {},
   "outputs": [
    {
     "data": {
      "text/plain": [
       "<AxesSubplot:xlabel='customer service calls', ylabel='total_charge'>"
      ]
     },
     "execution_count": 20,
     "metadata": {},
     "output_type": "execute_result"
    },
    {
     "data": {
      "image/png": "[encoded data removed]",
      "text/plain": [
       "<Figure size 640x480 with 1 Axes>"
      ]
     },
     "metadata": {},
     "output_type": "display_data"
    }
   ],
   "source": [
    "# Visualize two most correlated features regarding the churn target\n",
    "sns.scatterplot(data=churn_1, x='customer service calls', y='total_charge', hue='churn', style='churn')"
   ]
  },
  {
   "cell_type": "markdown",
   "id": "29252b28",
   "metadata": {},
   "source": [
    "**In summary**, the cleaned dataset has 3333 records with 11 numeric features.\n",
    "\n",
    "Upon conducting a tabulation on the target outcome, which is whether churn occurs or not, it becomes evident that the outcome is considerably skewed, with 15% representing churn and 85% indicating non-churn instances. This skewness suggests the inclusion of F1-score (precision and recall) as evaluation metrics for assessing model performance later on.\n",
    "\n",
    "Moreover, features are shown to have quite different scales. So it is better to standardize the data to facilitate model training and prediction effectively. \n",
    "\n",
    "A brief visual inspection of the feature relationships, particularly with respect to the target outcome, highlights 'customer service calls' (representing the total number of customer service calls made by a customer), 'total_charge' (indicating the total amount charged to a customer during different times of the day), and 'inter_yes' (denoting whether the customer has an international plan) as the features most positively correlated with the churn outcome. A simple scatterplot confirms the idea that customers having more service calls (likely with more concerns or complaints) are more likely to churn, as well as that higher total charges also contribute to the decision for churn. "
   ]
  },
  {
   "cell_type": "markdown",
   "id": "1093a3e6",
   "metadata": {},
   "source": [
    "So far, I have imported, cleaned and explored the raw data. The next step is to prepare the dataset for applying machine learning methods based on the data insights gained from the data analysis. "
   ]
  },
  {
   "cell_type": "markdown",
   "id": "4976b11d",
   "metadata": {},
   "source": [
    "## 3. Apply Deep Learning"
   ]
  },
  {
   "cell_type": "markdown",
   "id": "f80b7dc1",
   "metadata": {},
   "source": [
    "This project involves using advanced deep learning, a subset of machine learning that uses neural networks to solve complex problems. The method is powerful for solving classification problem due to its ability to automatically learn complex and non-linear relationships from data, thus alleviating the need for extensive manual hyperparameter optimization. \n",
    "\n",
    "**Tensorflow**, an open-source machine learning framework developed by the Google Brain team, is applied for implementation.\n",
    "\n",
    "The following steps are included in this section:\n",
    "1. **Dataset Preparation**: The dataset is partitioned into train, cross-validation, and test sets. Additionally, feature scaling is performed to ensure a mean of 0 and a standard deviation of 1 for the features, as this step has been shown to significantly enhance model performance.\n",
    "\n",
    "2. **Model Construction**: Three models with varying complexities are built to address the classification problem. All models compile using loss with BinaryCrossentropy and Adam optimizer with learning rate of 0.001.\n",
    "\n",
    "    * <u>\"Simple\" Model</u>: This model consists of three layers: a Dense layer with 6 units and a ReLU activation, followed by another Dense layer with 6 units and ReLU activation, and finally, a Dense layer with 1 unit and a Sigmoid activation.\n",
    "    \n",
    "    * <u>\"Complex\" Model</u>: This model comprises four layers: a Dense layer with 40 units and ReLU activation, followed by a Dense layer with 20 units and ReLU activation, then a Dense layer with 6 units and ReLU activation, and finally, a Dense layer with 1 unit and a Sigmoid activation.\n",
    "    \n",
    "    * <u>\"Complex with Regularization\" Model</u>: Building on the \"Complex\" model, this model incorporates regularization terms to improve generalization. The regularization parameter is later fine-tuned for optimal selection.\n",
    "\n",
    "\n",
    "3. **Model Evaluation**: For each model, evaluation is performed using metrics as \"Accuracy,\" \"Precision,\" \"Recall,\" and \"F1-score.\" \n",
    "\n",
    "4. **Model Selection**: The most suitable model is selected for this specific classification task."
   ]
  },
  {
   "cell_type": "markdown",
   "id": "f6f9c400",
   "metadata": {},
   "source": [
    "### 3.1 Split and prepare the dataset"
   ]
  },
  {
   "cell_type": "code",
   "execution_count": 21,
   "id": "ad7387b1",
   "metadata": {},
   "outputs": [],
   "source": [
    "# Define features and target \n",
    "y = churn_1['churn']\n",
    "X = churn_1.drop(['churn'], axis=1)"
   ]
  },
  {
   "cell_type": "code",
   "execution_count": 22,
   "id": "e2b08582",
   "metadata": {},
   "outputs": [],
   "source": [
    "# Split into train, cross validation, and test sets\n",
    "# Get 60% of the dataset as the training set.\n",
    "X_train, X_, y_train, y_ = train_test_split(X, y, test_size=0.40, random_state=42)\n",
    "\n",
    "# Split the 40% subset above into two: one half for cross validation and the other for the test set\n",
    "X_cv, X_test, y_cv, y_test = train_test_split(X_, y_, test_size=0.50, random_state=42)\n",
    "\n",
    "# Delete temporary variables\n",
    "del X_, y_"
   ]
  },
  {
   "cell_type": "code",
   "execution_count": 23,
   "id": "f874d09e",
   "metadata": {},
   "outputs": [
    {
     "name": "stdout",
     "output_type": "stream",
     "text": [
      "(1999, 10)\n",
      "(667, 10)\n",
      "(667, 10)\n",
      "(1999,)\n",
      "(667,)\n",
      "(667,)\n"
     ]
    }
   ],
   "source": [
    "print(X_train.shape)\n",
    "print(X_cv.shape)\n",
    "print(X_test.shape)\n",
    "print(y_train.shape)\n",
    "print(y_cv.shape)\n",
    "print(y_test.shape)"
   ]
  },
  {
   "cell_type": "markdown",
   "id": "31c5bd84",
   "metadata": {},
   "source": [
    "### 3.2 Scale the features"
   ]
  },
  {
   "cell_type": "code",
   "execution_count": 24,
   "id": "bf206ac3",
   "metadata": {},
   "outputs": [],
   "source": [
    "# Standardize the features\n",
    "# Initialize the class\n",
    "scaler = StandardScaler()\n",
    "\n",
    "# Compute the mean and standard deviation of the training set then transform it\n",
    "X_train_scaled = scaler.fit_transform(X_train)\n",
    "X_cv_scaled = scaler.transform(X_cv)\n",
    "X_test_scaled = scaler.transform(X_test)"
   ]
  },
  {
   "cell_type": "markdown",
   "id": "ec96bb1c",
   "metadata": {},
   "source": [
    "### 3.3 Build, Train, Evaluate and Select Neural Networks (using Tensorflow)"
   ]
  },
  {
   "attachments": {},
   "cell_type": "markdown",
   "id": "a6096383",
   "metadata": {},
   "source": [
    "Below is the outline of the steps for applying neural networks to a classification problem after data preparation.\n",
    "\n",
    "1. <u>Model Construction</u>:\n",
    "* Build the neural network architecture by specifying the number of layers and units in each layer. \n",
    "* Define the activation function to be used in each layer. \n",
    "    * For binary classification tasks like churn prediction, the output layer could employ the sigmoid activation function. This allows the model to directly predict the probability of churn as its output.\n",
    "    * ReLU activation function is suggested to use for inner layers.\n",
    "* Three different models are considered: (a) Simple model, (b) Complex model, (c) Complex model with Regularization\n",
    "\n",
    "2. <u>Model Compilation</u>:\n",
    "* Compile the model using a specific loss/cost function. \n",
    "    * For binary classification problems, the appropriate loss function is BinaryCrossentropy.\n",
    "\n",
    "3. <u>Model Training</u>:\n",
    "* Train the model to minimize the chosen cost function using the training set. \n",
    "    * This process involves usingthe Adam algorithm, which adapts the learning rate based on the gradients, providing a more efficient and faster approach to minimize the cost function compared to traditional gradient descent.\n",
    "    \n",
    "4. <u>Model Evaluation and Selection</u>:\n",
    "* Evaluate the models using metrics including Accuracy, F1-score, Precision and Recall using the cross-validation set. \n",
    "    * Accuracy is a commonly used metric for classification problems.\n",
    "    * F1-score, the harmonic mean of precision and recall, is particularly valuable when dealing with imbalanced datasets, like the one in this project where churn instances are significantly fewer than non-churn instances. \n",
    "* Select the model with highest accuracy values and F1-scores\n",
    "* Predict churn using test set."
   ]
  },
  {
   "cell_type": "code",
   "execution_count": 25,
   "id": "16089712",
   "metadata": {},
   "outputs": [],
   "source": [
    "tf.random.set_seed(42)"
   ]
  },
  {
   "cell_type": "markdown",
   "id": "b9bc9454",
   "metadata": {},
   "source": [
    "#### 3.3.1 Simple Model"
   ]
  },
  {
   "cell_type": "code",
   "execution_count": 26,
   "id": "4302ab91",
   "metadata": {},
   "outputs": [],
   "source": [
    "# Start with a simple neural network with three layers\n",
    "model_s = Sequential(\n",
    "    [\n",
    "        Dense(6, activation='relu', name='l1', input_dim = X.shape[1]),\n",
    "        Dense(6, activation='relu', name='l2'),\n",
    "        Dense(1, activation='sigmoid', name='l3')\n",
    "    ], name = 'Simple'\n",
    ")"
   ]
  },
  {
   "cell_type": "code",
   "execution_count": 27,
   "id": "cfdd844d",
   "metadata": {},
   "outputs": [],
   "source": [
    "# Compile the simple model\n",
    "model_s.compile(\n",
    "    loss=BinaryCrossentropy(),\n",
    "    optimizer=tf.keras.optimizers.Adam(learning_rate=0.001),\n",
    "    metrics = ['accuracy', tf.keras.metrics.Precision(), tf.keras.metrics.Recall()]\n",
    ")"
   ]
  },
  {
   "cell_type": "code",
   "execution_count": 28,
   "id": "5e2f503b",
   "metadata": {},
   "outputs": [
    {
     "data": {
      "text/plain": [
       "<keras.src.callbacks.History at 0x7fbdcf859c40>"
      ]
     },
     "execution_count": 28,
     "metadata": {},
     "output_type": "execute_result"
    }
   ],
   "source": [
    "# Train the simple model in the training set\n",
    "model_s.fit(\n",
    "    X_train_scaled, y_train,\n",
    "    epochs=1000, verbose=0\n",
    ")"
   ]
  },
  {
   "cell_type": "code",
   "execution_count": 29,
   "id": "3289afc0",
   "metadata": {},
   "outputs": [
    {
     "name": "stdout",
     "output_type": "stream",
     "text": [
      "Model: \"Simple\"\n",
      "_________________________________________________________________\n",
      " Layer (type)                Output Shape              Param #   \n",
      "=================================================================\n",
      " l1 (Dense)                  (None, 6)                 66        \n",
      "                                                                 \n",
      " l2 (Dense)                  (None, 6)                 42        \n",
      "                                                                 \n",
      " l3 (Dense)                  (None, 1)                 7         \n",
      "                                                                 \n",
      "=================================================================\n",
      "Total params: 115 (460.00 Byte)\n",
      "Trainable params: 115 (460.00 Byte)\n",
      "Non-trainable params: 0 (0.00 Byte)\n",
      "_________________________________________________________________\n"
     ]
    }
   ],
   "source": [
    "model_s.summary()"
   ]
  },
  {
   "cell_type": "code",
   "execution_count": 30,
   "id": "7cf3fa55",
   "metadata": {},
   "outputs": [
    {
     "name": "stdout",
     "output_type": "stream",
     "text": [
      "63/63 [==============================] - 0s 804us/step\n",
      "21/21 [==============================] - 0s 857us/step\n"
     ]
    }
   ],
   "source": [
    "# Predict in the training and cross-validation sets\n",
    "y_pred_train_s = model_s.predict(X_train_scaled)\n",
    "y_pred_train_s = (y_pred_train_s > 0.5)\n",
    "\n",
    "y_pred_cv_s = model_s.predict(X_cv_scaled)\n",
    "y_pred_cv_s = (y_pred_cv_s > 0.5)"
   ]
  },
  {
   "cell_type": "code",
   "execution_count": 31,
   "id": "11f27c6e",
   "metadata": {},
   "outputs": [
    {
     "name": "stdout",
     "output_type": "stream",
     "text": [
      "63/63 [==============================] - 0s 782us/step - loss: 0.1507 - accuracy: 0.9440 - precision: 0.9487 - recall: 0.6446\n",
      "Training\n",
      "Accuracy:0.9439719915390015, \n",
      "Precision:0.9487179517745972, \n",
      "Recall:0.6445993185043335, \n",
      "F1-score:0.7676348547717843\n"
     ]
    }
   ],
   "source": [
    "# Evaluate the performance of the simple model in the training set\n",
    "loss_train_s, accuracy_train_s, precision_train_s, recall_train_s = model_s.evaluate(X_train_scaled, y_train)\n",
    "f1_train_s = f1_score(y_train, y_pred_train_s)\n",
    "print(f\"Training\\nAccuracy:{accuracy_train_s}, \\nPrecision:{precision_train_s}, \\nRecall:{recall_train_s}, \\nF1-score:{f1_train_s}\")"
   ]
  },
  {
   "cell_type": "code",
   "execution_count": 32,
   "id": "88feada4",
   "metadata": {},
   "outputs": [
    {
     "name": "stdout",
     "output_type": "stream",
     "text": [
      "21/21 [==============================] - 0s 1ms/step - loss: 0.2417 - accuracy: 0.9220 - precision: 0.8529 - recall: 0.5800\n",
      "CV\n",
      "Accuracy:0.9220389723777771, \n",
      "Precision:0.8529411554336548, \n",
      "Recall:0.5799999833106995, \n",
      "F1-score:0.6904761904761905\n"
     ]
    }
   ],
   "source": [
    "# Evaluate the performance of the simple model in the cross-validation set\n",
    "loss_cv_s, accuracy_cv_s, precision_cv_s, recall_cv_s = model_s.evaluate(X_cv_scaled, y_cv)\n",
    "f1_cv_s = f1_score(y_cv, y_pred_cv_s)\n",
    "print(f\"CV\\nAccuracy:{accuracy_cv_s}, \\nPrecision:{precision_cv_s}, \\nRecall:{recall_cv_s}, \\nF1-score:{f1_cv_s}\")"
   ]
  },
  {
   "cell_type": "markdown",
   "id": "ca663790",
   "metadata": {},
   "source": [
    "#### 3.3.2 Complex model "
   ]
  },
  {
   "cell_type": "code",
   "execution_count": 33,
   "id": "926e57fc",
   "metadata": {},
   "outputs": [],
   "source": [
    "# Compare with a more complex model\n",
    "model_c = Sequential(\n",
    "    [\n",
    "        Dense(40, activation='relu', name='l1', input_dim = X.shape[1]),\n",
    "        Dense(20, activation='relu', name='l2'),\n",
    "        Dense(6, activation='relu', name='l3'),\n",
    "        Dense(1, activation='sigmoid', name='l4')\n",
    "    ], name = 'Complex'\n",
    ")"
   ]
  },
  {
   "cell_type": "code",
   "execution_count": 34,
   "id": "790e6a49",
   "metadata": {},
   "outputs": [],
   "source": [
    "# Compile the complex model\n",
    "model_c.compile(\n",
    "    loss=BinaryCrossentropy(),\n",
    "    optimizer=tf.keras.optimizers.Adam(learning_rate=0.001),\n",
    "    metrics = ['accuracy', tf.keras.metrics.Precision(), tf.keras.metrics.Recall()]\n",
    ")"
   ]
  },
  {
   "cell_type": "code",
   "execution_count": 35,
   "id": "416df95f",
   "metadata": {},
   "outputs": [
    {
     "data": {
      "text/plain": [
       "<keras.src.callbacks.History at 0x7fbdcf75f9d0>"
      ]
     },
     "execution_count": 35,
     "metadata": {},
     "output_type": "execute_result"
    }
   ],
   "source": [
    "# Train the complex model in the training set\n",
    "model_c.fit(\n",
    "    X_train_scaled, y_train,\n",
    "    epochs=1000, verbose=0\n",
    ")"
   ]
  },
  {
   "cell_type": "code",
   "execution_count": 36,
   "id": "bebb21d2",
   "metadata": {},
   "outputs": [
    {
     "name": "stdout",
     "output_type": "stream",
     "text": [
      "63/63 [==============================] - 0s 857us/step\n",
      "21/21 [==============================] - 0s 823us/step\n"
     ]
    }
   ],
   "source": [
    "# Predict the complex model in the training and cv sets\n",
    "y_pred_train_c = model_c.predict(X_train_scaled)\n",
    "y_pred_train_c = (y_pred_train_c > 0.5)\n",
    "\n",
    "y_pred_cv_c = model_c.predict(X_cv_scaled)\n",
    "y_pred_cv_c = (y_pred_cv_c > 0.5)"
   ]
  },
  {
   "cell_type": "code",
   "execution_count": 37,
   "id": "7cc4c70f",
   "metadata": {},
   "outputs": [
    {
     "name": "stdout",
     "output_type": "stream",
     "text": [
      "63/63 [==============================] - 0s 831us/step - loss: 0.0046 - accuracy: 0.9990 - precision_1: 0.9931 - recall_1: 1.0000\n",
      "Training\n",
      "Accuracy:0.9989994764328003, \n",
      "Precision:0.9930796027183533, \n",
      "Recall:1.0, \n",
      "F1-score:0.9965277777777778\n"
     ]
    }
   ],
   "source": [
    "# Evaluate the performance of the complex model in training set \n",
    "loss_train_c, accuracy_train_c, precision_train_c, recall_train_c = model_c.evaluate(X_train_scaled, y_train)\n",
    "f1_train_c = f1_score(y_train, y_pred_train_c)\n",
    "print(f\"Training\\nAccuracy:{accuracy_train_c}, \\nPrecision:{precision_train_c}, \\nRecall:{recall_train_c}, \\nF1-score:{f1_train_c}\")"
   ]
  },
  {
   "cell_type": "code",
   "execution_count": 38,
   "id": "d513b140",
   "metadata": {},
   "outputs": [
    {
     "name": "stdout",
     "output_type": "stream",
     "text": [
      "21/21 [==============================] - 0s 965us/step - loss: 1.5337 - accuracy: 0.9055 - precision_1: 0.7229 - recall_1: 0.6000\n",
      "CV\n",
      "Accuracy:0.9055472016334534, \n",
      "Precision:0.7228915691375732, \n",
      "Recall:0.6000000238418579, \n",
      "F1-score:0.6557377049180328\n"
     ]
    }
   ],
   "source": [
    "# Evaluate the performance of the complex model in cv set \n",
    "loss_cv_c, accuracy_cv_c, precision_cv_c, recall_cv_c = model_c.evaluate(X_cv_scaled, y_cv)\n",
    "f1_cv_c = f1_score(y_cv, y_pred_cv_c)\n",
    "print(f\"CV\\nAccuracy:{accuracy_cv_c}, \\nPrecision:{precision_cv_c}, \\nRecall:{recall_cv_c}, \\nF1-score:{f1_cv_c}\")"
   ]
  },
  {
   "cell_type": "markdown",
   "id": "a45b581e",
   "metadata": {},
   "source": [
    "#### 3.3.3 Complex model with Regularization"
   ]
  },
  {
   "cell_type": "code",
   "execution_count": 39,
   "id": "01f84296",
   "metadata": {},
   "outputs": [],
   "source": [
    "# Consider the complex model with regularization\n",
    "model_r = Sequential(\n",
    "    [\n",
    "        Dense(40, activation='relu', name='l1', kernel_regularizer=tf.keras.regularizers.l2(0.01), input_dim = X.shape[1]),\n",
    "        Dense(20, activation='relu', name='l2', kernel_regularizer=tf.keras.regularizers.l2(0.01)),\n",
    "        Dense(6, activation='relu', name='l3', kernel_regularizer=tf.keras.regularizers.l2(0.01)),\n",
    "        Dense(1, activation='sigmoid', name='l4')\n",
    "    ], name = 'Cregularization'\n",
    ")"
   ]
  },
  {
   "cell_type": "code",
   "execution_count": 40,
   "id": "a2113963",
   "metadata": {},
   "outputs": [],
   "source": [
    "# Compile the regularization model\n",
    "model_r.compile(\n",
    "    loss=BinaryCrossentropy(),\n",
    "    optimizer=tf.keras.optimizers.Adam(learning_rate=0.001),\n",
    "    metrics = ['accuracy', tf.keras.metrics.Precision(), tf.keras.metrics.Recall()]\n",
    ")"
   ]
  },
  {
   "cell_type": "code",
   "execution_count": 41,
   "id": "507d8cd9",
   "metadata": {},
   "outputs": [
    {
     "data": {
      "text/plain": [
       "<keras.src.callbacks.History at 0x7fbdd4eacb50>"
      ]
     },
     "execution_count": 41,
     "metadata": {},
     "output_type": "execute_result"
    }
   ],
   "source": [
    "# Train the regularization model in the training set\n",
    "model_r.fit(\n",
    "    X_train_scaled, y_train,\n",
    "    epochs=1000, verbose=0\n",
    ")"
   ]
  },
  {
   "cell_type": "code",
   "execution_count": 42,
   "id": "d621ea9f",
   "metadata": {},
   "outputs": [
    {
     "name": "stdout",
     "output_type": "stream",
     "text": [
      "63/63 [==============================] - 0s 1ms/step\n",
      "21/21 [==============================] - 0s 925us/step\n"
     ]
    }
   ],
   "source": [
    "# Predict the regularization model in the training and cv sets\n",
    "y_pred_train_r = model_r.predict(X_train_scaled)\n",
    "y_pred_train_r = (y_pred_train_r > 0.5)\n",
    "\n",
    "y_pred_cv_r = model_r.predict(X_cv_scaled)\n",
    "y_pred_cv_r = (y_pred_cv_r > 0.5)"
   ]
  },
  {
   "cell_type": "code",
   "execution_count": 43,
   "id": "458ae189",
   "metadata": {},
   "outputs": [
    {
     "name": "stdout",
     "output_type": "stream",
     "text": [
      "63/63 [==============================] - 0s 829us/step - loss: 0.1869 - accuracy: 0.9530 - precision_2: 0.9327 - recall_2: 0.7247\n",
      "Training\n",
      "Accuracy:0.9529764652252197, \n",
      "Precision:0.9327354431152344, \n",
      "Recall:0.7247386574745178, \n",
      "F1-score:0.8156862745098039\n"
     ]
    }
   ],
   "source": [
    "# Evaluate the performance of the regularization model in the training set\n",
    "loss_train_r, accuracy_train_r, precision_train_r, recall_train_r = model_r.evaluate(X_train_scaled, y_train)\n",
    "f1_train_r = f1_score(y_train, y_pred_train_r)\n",
    "print(f\"Training\\nAccuracy:{accuracy_train_r}, \\nPrecision:{precision_train_r}, \\nRecall:{recall_train_r}, \\nF1-score:{f1_train_r}\")"
   ]
  },
  {
   "cell_type": "code",
   "execution_count": 44,
   "id": "b0570672",
   "metadata": {},
   "outputs": [
    {
     "name": "stdout",
     "output_type": "stream",
     "text": [
      "21/21 [==============================] - 0s 1ms/step - loss: 0.2396 - accuracy: 0.9295 - precision_2: 0.8442 - recall_2: 0.6500\n",
      "CV\n",
      "Accuracy:0.9295352101325989, \n",
      "Precision:0.8441558480262756, \n",
      "Recall:0.6499999761581421, \n",
      "F1-score:0.7344632768361582\n"
     ]
    }
   ],
   "source": [
    "# Evaluate the performance of the regularization model in the cv set\n",
    "loss_cv_r, accuracy_cv_r, precision_cv_r, recall_cv_r = model_r.evaluate(X_cv_scaled, y_cv)\n",
    "f1_cv_r = f1_score(y_cv, y_pred_cv_r)\n",
    "print(f\"CV\\nAccuracy:{accuracy_cv_r}, \\nPrecision:{precision_cv_r}, \\nRecall:{recall_cv_r}, \\nF1-score:{f1_cv_r}\")"
   ]
  },
  {
   "cell_type": "markdown",
   "id": "13585ccf",
   "metadata": {},
   "source": [
    "#### 3.3.4 Iterate to find optimal regularization value"
   ]
  },
  {
   "cell_type": "code",
   "execution_count": 45,
   "id": "2d72b60c",
   "metadata": {},
   "outputs": [],
   "source": [
    "# A list of regularization parameter values\n",
    "lambdas = [0.0, 0.001, 0.01, 0.05, 0.1, 0.2, 0.3]"
   ]
  },
  {
   "cell_type": "code",
   "execution_count": 46,
   "id": "f8b00d8c",
   "metadata": {},
   "outputs": [
    {
     "name": "stdout",
     "output_type": "stream",
     "text": [
      "Finished lambda = 0.0\n",
      "Finished lambda = 0.001\n",
      "Finished lambda = 0.01\n",
      "Finished lambda = 0.05\n",
      "Finished lambda = 0.1\n",
      "Finished lambda = 0.2\n",
      "Finished lambda = 0.3\n"
     ]
    }
   ],
   "source": [
    "# Loop over different models\n",
    "models = [None]*len(lambdas)\n",
    "\n",
    "for i in range(len(lambdas)):\n",
    "    lambda_ = lambdas[i]\n",
    "    models[i] = Sequential(\n",
    "        [\n",
    "            Dense(40, activation='relu', name='l1', kernel_regularizer=tf.keras.regularizers.l2(lambda_), input_dim = X.shape[1]),\n",
    "            Dense(20, activation='relu', name='l2', kernel_regularizer=tf.keras.regularizers.l2(lambda_)),\n",
    "            Dense(6, activation='relu', name='l3', kernel_regularizer=tf.keras.regularizers.l2(lambda_)),\n",
    "            Dense(1, activation='sigmoid', name='l4')   \n",
    "        ]\n",
    "    )\n",
    "    models[i].compile(\n",
    "        loss=tf.keras.losses.BinaryCrossentropy(),\n",
    "        optimizer=tf.keras.optimizers.Adam(learning_rate=0.001),\n",
    "        metrics = ['accuracy']\n",
    "    )\n",
    "    models[i].fit(\n",
    "        X_train_scaled, y_train,\n",
    "        epochs=1000, verbose=0\n",
    "    )\n",
    "    print(f\"Finished lambda = {lambda_}\")"
   ]
  },
  {
   "cell_type": "code",
   "execution_count": 47,
   "id": "9ed865f9",
   "metadata": {},
   "outputs": [
    {
     "name": "stdout",
     "output_type": "stream",
     "text": [
      "63/63 [==============================] - 0s 1ms/step - loss: 0.0033 - accuracy: 0.9995\n",
      "21/21 [==============================] - 0s 922us/step - loss: 1.2419 - accuracy: 0.9070\n",
      "63/63 [==============================] - 0s 744us/step - loss: 0.0481 - accuracy: 0.9990\n",
      "21/21 [==============================] - 0s 861us/step - loss: 0.6394 - accuracy: 0.9070\n",
      "63/63 [==============================] - 0s 808us/step - loss: 0.1866 - accuracy: 0.9525\n",
      "21/21 [==============================] - 0s 952us/step - loss: 0.2485 - accuracy: 0.9310\n",
      "63/63 [==============================] - 0s 871us/step - loss: 0.4114 - accuracy: 0.8564\n",
      "21/21 [==============================] - 0s 921us/step - loss: 0.4227 - accuracy: 0.8501\n",
      "63/63 [==============================] - 0s 771us/step - loss: 0.4114 - accuracy: 0.8564\n",
      "21/21 [==============================] - 0s 879us/step - loss: 0.4227 - accuracy: 0.8501\n",
      "63/63 [==============================] - 0s 752us/step - loss: 0.4114 - accuracy: 0.8564\n",
      "21/21 [==============================] - 0s 888us/step - loss: 0.4227 - accuracy: 0.8501\n",
      "63/63 [==============================] - 0s 765us/step - loss: 0.4114 - accuracy: 0.8564\n",
      "21/21 [==============================] - 0s 911us/step - loss: 0.4227 - accuracy: 0.8501\n"
     ]
    },
    {
     "data": {
      "image/png": "[encoded data removed]",
      "text/plain": [
       "<Figure size 600x400 with 1 Axes>"
      ]
     },
     "metadata": {},
     "output_type": "display_data"
    }
   ],
   "source": [
    "# Define and Plot accuracy over regularization parameter values\n",
    "def plot_iterate(lambdas, models, X_train, y_train, X_cv, y_cv):\n",
    "    loss_train = np.zeros(len(lambdas))\n",
    "    loss_cv = np.zeros(len(lambdas))\n",
    "    err_train = np.zeros(len(lambdas))\n",
    "    err_cv = np.zeros(len(lambdas))\n",
    "    for i in range(len(models)):\n",
    "        loss_train[i], err_train[i] = models[i].evaluate(X_train, y_train)\n",
    "        loss_cv[i], err_cv[i] = models[i].evaluate(X_cv, y_cv)\n",
    "\n",
    "    fig, ax = plt.subplots(1,1,figsize=(6,4))\n",
    "    fig.canvas.toolbar_visible = False\n",
    "    fig.canvas.header_visible = False\n",
    "    fig.canvas.footer_visible = False\n",
    "    ax.set_title(\"accuracy vs regularization\",fontsize = 12)\n",
    "    ax.plot(lambdas, err_train, marker='o', label=\"train accuracy\", color = 'blue')\n",
    "    ax.plot(lambdas, err_cv,    marker='o', label=\"cv accuracy\",    color = 'orange')\n",
    "    ax.set_xscale('log')\n",
    "    ax.set_ylim(*ax.get_ylim())\n",
    "    ax.set_xlabel(\"Regularization (lambda)\",fontsize = 14)\n",
    "    ax.set_ylabel(\"Accuracy\",fontsize = 14)\n",
    "    ax.legend()\n",
    "    fig.suptitle(\"Tuning Regularization\",fontsize = 14)\n",
    "    plt.show()\n",
    "    \n",
    "plot_iterate(lambdas, models, X_train_scaled, y_train, X_cv_scaled, y_cv)"
   ]
  },
  {
   "cell_type": "markdown",
   "id": "2ac42481",
   "metadata": {},
   "source": [
    "From the visualization, it becomes evident that a preferred regularization parameter value is 0.01 for the complex model, achieving the highest accuracy (as indicated by the yellow line).\n",
    "\n",
    "When using smaller lambda values, it is possible to achieve almost perfect accuracy on the training set. However, the model struggles to maintain this level of accuracy on the cross-validation set, suggesting an overfitting problem. This situation is characterized by lower bias but higher variance, where the model becomes too complex and specific to the training data, making it challenging to generalize well to new data.\n",
    "\n",
    "On the other hand, when using larger lambda values, the model's performance in both the training and cross-validation sets deteriorates rapidly, resulting in significantly worse performance. This occurs as the large regularization penalty imposes strong constraints on the model's complexity, leading to an overly simplistic model that fails to capture the underlying patterns in the data."
   ]
  },
  {
   "cell_type": "markdown",
   "id": "5ab7c77e",
   "metadata": {},
   "source": [
    "#### 3.3.5 Select model"
   ]
  },
  {
   "cell_type": "code",
   "execution_count": 48,
   "id": "a7eb387f",
   "metadata": {},
   "outputs": [
    {
     "name": "stdout",
     "output_type": "stream",
     "text": [
      "accuracy: 0.94 f1-score: 0.77 precision: 0.95 recall: 0.64 Model: Simple, Training\n",
      "accuracy: 0.92 f1-score: 0.69 precision: 0.85 recall: 0.58 Model: Simple, CV\n",
      "accuracy: 1.00 f1-score: 1.00 precision: 0.99 recall: 1.00 Model: Complex, Training\n",
      "accuracy: 0.91 f1-score: 0.66 precision: 0.72 recall: 0.60 Model: Complex, CV\n",
      "accuracy: 0.95 f1-score: 0.82 precision: 0.93 recall: 0.72 Model: Regularization, Training\n",
      "accuracy: 0.93 f1-score: 0.73 precision: 0.84 recall: 0.65 Model: Regularization, CV\n"
     ]
    }
   ],
   "source": [
    "print(\"accuracy:\", \"{:.2f}\".format(accuracy_train_s), \"f1-score:\", \"{:.2f}\".format(f1_train_s), \"precision:\", \"{:.2f}\".format(precision_train_s), \"recall:\",\"{:.2f}\".format(recall_train_s),\"Model:\", \"Simple, Training\")\n",
    "print(\"accuracy:\", \"{:.2f}\".format(accuracy_cv_s), \"f1-score:\", \"{:.2f}\".format(f1_cv_s), \"precision:\", \"{:.2f}\".format(precision_cv_s), \"recall:\",\"{:.2f}\".format(recall_cv_s),\"Model:\", \"Simple, CV\")\n",
    "\n",
    "print(\"accuracy:\", \"{:.2f}\".format(accuracy_train_c), \"f1-score:\", \"{:.2f}\".format(f1_train_c), \"precision:\", \"{:.2f}\".format(precision_train_c), \"recall:\",\"{:.2f}\".format(recall_train_c),\"Model:\", \"Complex, Training\")\n",
    "print(\"accuracy:\", \"{:.2f}\".format(accuracy_cv_c), \"f1-score:\", \"{:.2f}\".format(f1_cv_c), \"precision:\", \"{:.2f}\".format(precision_cv_c), \"recall:\",\"{:.2f}\".format(recall_cv_c),\"Model:\", \"Complex, CV\")\n",
    "\n",
    "print(\"accuracy:\", \"{:.2f}\".format(accuracy_train_r), \"f1-score:\", \"{:.2f}\".format(f1_train_r), \"precision:\", \"{:.2f}\".format(precision_train_r), \"recall:\",\"{:.2f}\".format(recall_train_r),\"Model:\", \"Regularization, Training\")\n",
    "print(\"accuracy:\", \"{:.2f}\".format(accuracy_cv_r), \"f1-score:\", \"{:.2f}\".format(f1_cv_r), \"precision:\", \"{:.2f}\".format(precision_cv_r), \"recall:\",\"{:.2f}\".format(recall_cv_r),\"Model:\", \"Regularization, CV\")"
   ]
  },
  {
   "cell_type": "markdown",
   "id": "4e8ccada",
   "metadata": {},
   "source": [
    "Based on the evaluation results of the three models, the following observations can be made:\n",
    "\n",
    "* <u>Complex Model vs. Complex with Regularization Model</u>: The \"Complex with regularization\" model outperforms the \"Complex\" model on the cross-validation set across all the examined metrics. This discrepancy suggests a potential overfitting issue with the \"Complex\" model. \n",
    "\n",
    "* <u>Simple Model vs. Complex with Regularization Model</u>: Both the \"Simple\" model and the \"Complex with regularization\" model output similar accuracy (92%) and precision (85%) on the cross-validation set. However, the \"Complex with Regularization\" model has significantly higher F1-score (73% compared to 69%) and recall (65% compared to 58%). \n",
    "\n",
    "So I would prefer the \"Complex with Regularization\" model, whose prediction results using the test set are shown below. The final model achieves fine performance, with an accuracy of 0.93 and an F1-score of 0.73 on the test set. "
   ]
  },
  {
   "cell_type": "code",
   "execution_count": 51,
   "id": "83d5cb0f",
   "metadata": {},
   "outputs": [
    {
     "name": "stdout",
     "output_type": "stream",
     "text": [
      "21/21 [==============================] - 0s 775us/step\n"
     ]
    }
   ],
   "source": [
    "# Predict in the test set using the Simple model\n",
    "y_pred_test_r = model_r.predict(X_test_scaled)\n",
    "y_pred_test_r = (y_pred_test_r > 0.5)"
   ]
  },
  {
   "cell_type": "code",
   "execution_count": 52,
   "id": "918bf94b",
   "metadata": {},
   "outputs": [
    {
     "name": "stdout",
     "output_type": "stream",
     "text": [
      "21/21 [==============================] - 0s 1ms/step - loss: 0.2262 - accuracy: 0.9340 - precision_2: 0.8824 - recall_2: 0.6250\n",
      "Test\n",
      "Accuracy:0.9340329766273499, \n",
      "Precision:0.8823529481887817, \n",
      "Recall:0.625, \n",
      "F1-score:0.7317073170731708\n"
     ]
    }
   ],
   "source": [
    "# Evaluate the performance of the simple model in the test set\n",
    "loss_test_r, accuracy_test_r, precision_test_r, recall_test_r = model_r.evaluate(X_test_scaled, y_test)\n",
    "f1_test_r = f1_score(y_test, y_pred_test_r)\n",
    "print(f\"Test\\nAccuracy:{accuracy_test_r}, \\nPrecision:{precision_test_r}, \\nRecall:{recall_test_r}, \\nF1-score:{f1_test_r}\")"
   ]
  },
  {
   "cell_type": "markdown",
   "id": "384fe444",
   "metadata": {},
   "source": [
    "### Conclusion"
   ]
  },
  {
   "cell_type": "markdown",
   "id": "56ea5f26",
   "metadata": {},
   "source": [
    "This project implemented neural network models for a classification problem predicting customer churn. \n",
    "\n",
    "As noted, the relatively low F1-score associalted with final the model highlights the need for further model improvement, particularly to enhance recall and capture more actual churn instances. To achieve this, strategies such as adjusting the decision threshold, gathering additional relevant data, exploring different model architectures, or using different sampling techniques can be considered to enhance the recall while maintaining a reasonable level of precision."
   ]
  }
 ],
 "metadata": {
  "kernelspec": {
   "display_name": "Python 3 (ipykernel)",
   "language": "python",
   "name": "python3"
  },
  "language_info": {
   "codemirror_mode": {
    "name": "ipython",
    "version": 3
   },
   "file_extension": ".py",
   "mimetype": "text/x-python",
   "name": "python",
   "nbconvert_exporter": "python",
   "pygments_lexer": "ipython3",
   "version": "3.9.13"
  }
 },
 "nbformat": 4,
 "nbformat_minor": 5
}
